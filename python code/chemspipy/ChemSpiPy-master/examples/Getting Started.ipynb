{
 "cells": [
  {
   "cell_type": "markdown",
   "metadata": {},
   "source": [
    "# ChemSpiPy: Getting Started\n",
    "\n",
    "Before we start:\n",
    "\n",
    "- Make sure you have [installed ChemSpiPy](http://chemspipy.readthedocs.org/en/latest/guide/install.html#install).\n",
    "- [Obtain a security token](http://chemspipy.readthedocs.org/en/latest/guide/intro.html#securitytoken) from the ChemSpider web site.\n",
    "\n",
    "## First Steps\n",
    "\n",
    "Start by importing ChemSpider:"
   ]
  },
  {
   "cell_type": "code",
   "execution_count": 1,
   "metadata": {
    "collapsed": true
   },
   "outputs": [],
   "source": [
    "from chemspipy import ChemSpider"
   ]
  },
  {
   "cell_type": "markdown",
   "metadata": {},
   "source": [
    "Then connect to ChemSpider by creating a ChemSpider instance using your security token:"
   ]
  },
  {
   "cell_type": "code",
   "execution_count": 2,
   "metadata": {
    "collapsed": false
   },
   "outputs": [],
   "source": [
    "# Tip: Store your security token as an environment variable to reduce the chance of accidentally sharing it\n",
    "import os\n",
    "mytoken = os.environ['CHEMSPIDER_SECURITY_TOKEN']\n",
    "\n",
    "cs = ChemSpider(security_token=mytoken)"
   ]
  },
  {
   "cell_type": "markdown",
   "metadata": {},
   "source": [
    "All your interaction with the ChemSpider database should now happen through this ChemSpider object, `cs`.\n",
    "\n",
    "## Retrieve a Compound\n",
    "\n",
    "Retrieving information about a specific Compound in the ChemSpider database is simple.\n",
    "\n",
    "Let’s get the Compound with [ChemSpider ID 2157](http://www.chemspider.com/Chemical-Structure.2157.html):"
   ]
  },
  {
   "cell_type": "code",
   "execution_count": 3,
   "metadata": {
    "collapsed": false
   },
   "outputs": [
    {
     "data": {
      "image/png": "[encoded data removed]",
      "text/plain": [
       "Compound(2157)"
      ]
     },
     "execution_count": 3,
     "metadata": {},
     "output_type": "execute_result"
    }
   ],
   "source": [
    "comp = cs.get_compound(2157)\n",
    "comp"
   ]
  },
  {
   "cell_type": "markdown",
   "metadata": {},
   "source": [
    "Now we have a [Compound](http://chemspipy.readthedocs.org/en/latest/api.html#chemspipy.Compound) object called `comp`. We can get various identifiers and calculated properties from this object:"
   ]
  },
  {
   "cell_type": "code",
   "execution_count": 4,
   "metadata": {
    "collapsed": false
   },
   "outputs": [
    {
     "name": "stdout",
     "output_type": "stream",
     "text": [
      "C_{9}H_{8}O_{4}\n",
      "180.1574\n",
      "CC(=O)Oc1ccccc1C(=O)O\n",
      "Aspirin\n"
     ]
    }
   ],
   "source": [
    "print(comp.molecular_formula)\n",
    "print(comp.molecular_weight)\n",
    "print(comp.smiles)\n",
    "print(comp.common_name)"
   ]
  },
  {
   "cell_type": "markdown",
   "metadata": {},
   "source": [
    "## Search for a name\n",
    "\n",
    "What if you don’t know the ChemSpider ID of the Compound you want? Instead use the `search` method:"
   ]
  },
  {
   "cell_type": "code",
   "execution_count": 5,
   "metadata": {
    "collapsed": false
   },
   "outputs": [
    {
     "name": "stdout",
     "output_type": "stream",
     "text": [
      "Compound(5589)\n",
      "Compound(58238)\n",
      "Compound(71358)\n",
      "Compound(96749)\n",
      "Compound(2006622)\n",
      "Compound(5341883)\n",
      "Compound(5360239)\n",
      "Compound(9129332)\n",
      "Compound(9281077)\n",
      "Compound(9312824)\n",
      "Compound(9484839)\n",
      "Compound(9655623)\n"
     ]
    }
   ],
   "source": [
    "for result in cs.search('glucose'):\n",
    "    print(result)"
   ]
  },
  {
   "cell_type": "markdown",
   "metadata": {},
   "source": [
    "The search method accepts any identifer that ChemSpider can interpret, including names, registry numbers, SMILES and InChI."
   ]
  }
 ],
 "metadata": {
  "kernelspec": {
   "display_name": "Python 2",
   "language": "python",
   "name": "python2"
  },
  "language_info": {
   "codemirror_mode": {
    "name": "ipython",
    "version": 2
   },
   "file_extension": ".py",
   "mimetype": "text/x-python",
   "name": "python",
   "nbconvert_exporter": "python",
   "pygments_lexer": "ipython2",
   "version": "2.7.9"
  }
 },
 "nbformat": 4,
 "nbformat_minor": 0
}
